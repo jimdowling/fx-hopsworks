{
 "cells": [
  {
   "cell_type": "code",
   "execution_count": null,
   "id": "dddd4e81-c9da-46f3-b20d-7c60b97c3c9c",
   "metadata": {},
   "outputs": [],
   "source": [
    "#!pip install hopsworks"
   ]
  },
  {
   "cell_type": "code",
   "execution_count": null,
   "id": "bf0a5a98-8964-48b6-93ef-33eaf592f92b",
   "metadata": {},
   "outputs": [],
   "source": [
    "#!pip install yfinance"
   ]
  },
  {
   "cell_type": "code",
   "execution_count": null,
   "id": "9f2a5f42-e80a-4989-8c57-0d92868ceae0",
   "metadata": {},
   "outputs": [],
   "source": [
    "import yfinance as yf\n",
    "import pandas as pd\n",
    "\n",
    "forex_data = yf.download('EURUSD=X', start='2011-01-02', end='2023-08-31')\n",
    "forex_data['fx'] = \"EURUSD=X\"\n",
    "\n",
    "forex_data = forex_data.reset_index()\n",
    "forex_data.rename(columns = {'Adj Close':'adj_close'}, inplace = True)\n",
    "\n",
    "forex_data"
   ]
  },
  {
   "cell_type": "code",
   "execution_count": null,
   "id": "0ee15492-95bb-43de-b99f-d8f511202794",
   "metadata": {},
   "outputs": [],
   "source": [
    "forex_data.info()"
   ]
  },
  {
   "cell_type": "code",
   "execution_count": null,
   "id": "823f5c1a-0e9c-4cd2-af32-637532d037e7",
   "metadata": {},
   "outputs": [],
   "source": [
    "import hopsworks\n",
    "proj = hopsworks.login()\n",
    "fs = proj.get_feature_store()"
   ]
  },
  {
   "cell_type": "code",
   "execution_count": null,
   "id": "2c619eca-bd19-4d7b-b90a-bb41bc391e99",
   "metadata": {},
   "outputs": [],
   "source": [
    "fg = fs.get_or_create_feature_group(name=\"eurusd\", version=1, description=\"EUR/USD fx exchange rate\", primary_key=['fx','date'], event_time=\"date\")"
   ]
  },
  {
   "cell_type": "code",
   "execution_count": null,
   "id": "ef03e536-a466-4e55-9413-e84b5c583feb",
   "metadata": {},
   "outputs": [],
   "source": [
    "fg.insert(forex_data)"
   ]
  },
  {
   "cell_type": "code",
   "execution_count": null,
   "id": "46731ba0-c5eb-47d7-a5e0-a72fe941ca13",
   "metadata": {},
   "outputs": [],
   "source": [
    "# df = fg.read()"
   ]
  },
  {
   "cell_type": "code",
   "execution_count": null,
   "id": "1e532d12-56a3-44d7-b16c-8ac5418635f4",
   "metadata": {},
   "outputs": [],
   "source": [
    "# df"
   ]
  }
 ],
 "metadata": {
  "kernelspec": {
   "display_name": "Python 3 (ipykernel)",
   "language": "python",
   "name": "python3"
  },
  "language_info": {
   "codemirror_mode": {
    "name": "ipython",
    "version": 3
   },
   "file_extension": ".py",
   "mimetype": "text/x-python",
   "name": "python",
   "nbconvert_exporter": "python",
   "pygments_lexer": "ipython3",
   "version": "3.10.0"
  }
 },
 "nbformat": 4,
 "nbformat_minor": 5
}
