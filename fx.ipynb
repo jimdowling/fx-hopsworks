{
 "cells": [
  {
   "cell_type": "code",
   "execution_count": null,
   "id": "dddd4e81-c9da-46f3-b20d-7c60b97c3c9c",
   "metadata": {},
   "outputs": [],
   "source": [
    "#!pip install hopsworks"
   ]
  },
  {
   "cell_type": "code",
   "execution_count": null,
   "id": "bf0a5a98-8964-48b6-93ef-33eaf592f92b",
   "metadata": {},
   "outputs": [],
   "source": [
    "#!pip install yfinance"
   ]
  },
  {
   "cell_type": "code",
   "execution_count": 1,
   "id": "9f2a5f42-e80a-4989-8c57-0d92868ceae0",
   "metadata": {},
   "outputs": [
    {
     "name": "stdout",
     "output_type": "stream",
     "text": [
      "[*********************100%%**********************]  1 of 1 completed\n"
     ]
    },
    {
     "data": {
      "text/html": [
       "<div>\n",
       "<style scoped>\n",
       "    .dataframe tbody tr th:only-of-type {\n",
       "        vertical-align: middle;\n",
       "    }\n",
       "\n",
       "    .dataframe tbody tr th {\n",
       "        vertical-align: top;\n",
       "    }\n",
       "\n",
       "    .dataframe thead th {\n",
       "        text-align: right;\n",
       "    }\n",
       "</style>\n",
       "<table border=\"1\" class=\"dataframe\">\n",
       "  <thead>\n",
       "    <tr style=\"text-align: right;\">\n",
       "      <th></th>\n",
       "      <th>Date</th>\n",
       "      <th>Open</th>\n",
       "      <th>High</th>\n",
       "      <th>Low</th>\n",
       "      <th>Close</th>\n",
       "      <th>adj_close</th>\n",
       "      <th>Volume</th>\n",
       "      <th>fx</th>\n",
       "    </tr>\n",
       "  </thead>\n",
       "  <tbody>\n",
       "    <tr>\n",
       "      <th>0</th>\n",
       "      <td>2011-01-03</td>\n",
       "      <td>1.335595</td>\n",
       "      <td>1.336505</td>\n",
       "      <td>1.325293</td>\n",
       "      <td>1.335791</td>\n",
       "      <td>1.335791</td>\n",
       "      <td>0</td>\n",
       "      <td>EURUSD=X</td>\n",
       "    </tr>\n",
       "    <tr>\n",
       "      <th>1</th>\n",
       "      <td>2011-01-04</td>\n",
       "      <td>1.336005</td>\n",
       "      <td>1.343093</td>\n",
       "      <td>1.331824</td>\n",
       "      <td>1.335684</td>\n",
       "      <td>1.335684</td>\n",
       "      <td>0</td>\n",
       "      <td>EURUSD=X</td>\n",
       "    </tr>\n",
       "    <tr>\n",
       "      <th>2</th>\n",
       "      <td>2011-01-05</td>\n",
       "      <td>1.332392</td>\n",
       "      <td>1.332392</td>\n",
       "      <td>1.312905</td>\n",
       "      <td>1.332108</td>\n",
       "      <td>1.332108</td>\n",
       "      <td>0</td>\n",
       "      <td>EURUSD=X</td>\n",
       "    </tr>\n",
       "    <tr>\n",
       "      <th>3</th>\n",
       "      <td>2011-01-06</td>\n",
       "      <td>1.316101</td>\n",
       "      <td>1.317037</td>\n",
       "      <td>1.303373</td>\n",
       "      <td>1.315686</td>\n",
       "      <td>1.315686</td>\n",
       "      <td>0</td>\n",
       "      <td>EURUSD=X</td>\n",
       "    </tr>\n",
       "    <tr>\n",
       "      <th>4</th>\n",
       "      <td>2011-01-07</td>\n",
       "      <td>1.298904</td>\n",
       "      <td>1.302134</td>\n",
       "      <td>1.293895</td>\n",
       "      <td>1.297993</td>\n",
       "      <td>1.297993</td>\n",
       "      <td>0</td>\n",
       "      <td>EURUSD=X</td>\n",
       "    </tr>\n",
       "    <tr>\n",
       "      <th>...</th>\n",
       "      <td>...</td>\n",
       "      <td>...</td>\n",
       "      <td>...</td>\n",
       "      <td>...</td>\n",
       "      <td>...</td>\n",
       "      <td>...</td>\n",
       "      <td>...</td>\n",
       "      <td>...</td>\n",
       "    </tr>\n",
       "    <tr>\n",
       "      <th>3293</th>\n",
       "      <td>2023-08-24</td>\n",
       "      <td>1.086579</td>\n",
       "      <td>1.087690</td>\n",
       "      <td>1.081549</td>\n",
       "      <td>1.086579</td>\n",
       "      <td>1.086579</td>\n",
       "      <td>0</td>\n",
       "      <td>EURUSD=X</td>\n",
       "    </tr>\n",
       "    <tr>\n",
       "      <th>3294</th>\n",
       "      <td>2023-08-25</td>\n",
       "      <td>1.079914</td>\n",
       "      <td>1.083976</td>\n",
       "      <td>1.076670</td>\n",
       "      <td>1.079914</td>\n",
       "      <td>1.079914</td>\n",
       "      <td>0</td>\n",
       "      <td>EURUSD=X</td>\n",
       "    </tr>\n",
       "    <tr>\n",
       "      <th>3295</th>\n",
       "      <td>2023-08-28</td>\n",
       "      <td>1.079739</td>\n",
       "      <td>1.082134</td>\n",
       "      <td>1.079937</td>\n",
       "      <td>1.079739</td>\n",
       "      <td>1.079739</td>\n",
       "      <td>0</td>\n",
       "      <td>EURUSD=X</td>\n",
       "    </tr>\n",
       "    <tr>\n",
       "      <th>3296</th>\n",
       "      <td>2023-08-29</td>\n",
       "      <td>1.082556</td>\n",
       "      <td>1.085670</td>\n",
       "      <td>1.078353</td>\n",
       "      <td>1.082556</td>\n",
       "      <td>1.082556</td>\n",
       "      <td>0</td>\n",
       "      <td>EURUSD=X</td>\n",
       "    </tr>\n",
       "    <tr>\n",
       "      <th>3297</th>\n",
       "      <td>2023-08-30</td>\n",
       "      <td>1.086921</td>\n",
       "      <td>1.094547</td>\n",
       "      <td>1.085611</td>\n",
       "      <td>1.086921</td>\n",
       "      <td>1.086921</td>\n",
       "      <td>0</td>\n",
       "      <td>EURUSD=X</td>\n",
       "    </tr>\n",
       "  </tbody>\n",
       "</table>\n",
       "<p>3298 rows × 8 columns</p>\n",
       "</div>"
      ],
      "text/plain": [
       "           Date      Open      High       Low     Close  adj_close  Volume  \\\n",
       "0    2011-01-03  1.335595  1.336505  1.325293  1.335791   1.335791       0   \n",
       "1    2011-01-04  1.336005  1.343093  1.331824  1.335684   1.335684       0   \n",
       "2    2011-01-05  1.332392  1.332392  1.312905  1.332108   1.332108       0   \n",
       "3    2011-01-06  1.316101  1.317037  1.303373  1.315686   1.315686       0   \n",
       "4    2011-01-07  1.298904  1.302134  1.293895  1.297993   1.297993       0   \n",
       "...         ...       ...       ...       ...       ...        ...     ...   \n",
       "3293 2023-08-24  1.086579  1.087690  1.081549  1.086579   1.086579       0   \n",
       "3294 2023-08-25  1.079914  1.083976  1.076670  1.079914   1.079914       0   \n",
       "3295 2023-08-28  1.079739  1.082134  1.079937  1.079739   1.079739       0   \n",
       "3296 2023-08-29  1.082556  1.085670  1.078353  1.082556   1.082556       0   \n",
       "3297 2023-08-30  1.086921  1.094547  1.085611  1.086921   1.086921       0   \n",
       "\n",
       "            fx  \n",
       "0     EURUSD=X  \n",
       "1     EURUSD=X  \n",
       "2     EURUSD=X  \n",
       "3     EURUSD=X  \n",
       "4     EURUSD=X  \n",
       "...        ...  \n",
       "3293  EURUSD=X  \n",
       "3294  EURUSD=X  \n",
       "3295  EURUSD=X  \n",
       "3296  EURUSD=X  \n",
       "3297  EURUSD=X  \n",
       "\n",
       "[3298 rows x 8 columns]"
      ]
     },
     "execution_count": 1,
     "metadata": {},
     "output_type": "execute_result"
    }
   ],
   "source": [
    "import yfinance as yf\n",
    "import pandas as pd\n",
    "\n",
    "forex_data = yf.download('EURUSD=X', start='2011-01-02', end='2023-08-31')\n",
    "forex_data['fx'] = \"EURUSD=X\"\n",
    "\n",
    "forex_data = forex_data.reset_index()\n",
    "forex_data.rename(columns = {'Adj Close':'adj_close'}, inplace = True)\n",
    "\n",
    "forex_data"
   ]
  },
  {
   "cell_type": "code",
   "execution_count": 2,
   "id": "0ee15492-95bb-43de-b99f-d8f511202794",
   "metadata": {},
   "outputs": [
    {
     "name": "stdout",
     "output_type": "stream",
     "text": [
      "<class 'pandas.core.frame.DataFrame'>\n",
      "RangeIndex: 3298 entries, 0 to 3297\n",
      "Data columns (total 8 columns):\n",
      " #   Column     Non-Null Count  Dtype         \n",
      "---  ------     --------------  -----         \n",
      " 0   Date       3298 non-null   datetime64[ns]\n",
      " 1   Open       3298 non-null   float64       \n",
      " 2   High       3298 non-null   float64       \n",
      " 3   Low        3298 non-null   float64       \n",
      " 4   Close      3298 non-null   float64       \n",
      " 5   adj_close  3298 non-null   float64       \n",
      " 6   Volume     3298 non-null   int64         \n",
      " 7   fx         3298 non-null   object        \n",
      "dtypes: datetime64[ns](1), float64(5), int64(1), object(1)\n",
      "memory usage: 206.2+ KB\n"
     ]
    }
   ],
   "source": [
    "forex_data.info()"
   ]
  },
  {
   "cell_type": "code",
   "execution_count": 3,
   "id": "823f5c1a-0e9c-4cd2-af32-637532d037e7",
   "metadata": {},
   "outputs": [
    {
     "name": "stdout",
     "output_type": "stream",
     "text": [
      "Connected. Call `.close()` to terminate connection gracefully.\n",
      "\n",
      "Logged in to project, explore it here https://34.90.74.208:443/p/119\n",
      "Connected. Call `.close()` to terminate connection gracefully.\n"
     ]
    }
   ],
   "source": [
    "import hopsworks\n",
    "proj = hopsworks.login()\n",
    "fs = proj.get_feature_store()"
   ]
  },
  {
   "cell_type": "code",
   "execution_count": 4,
   "id": "2c619eca-bd19-4d7b-b90a-bb41bc391e99",
   "metadata": {},
   "outputs": [],
   "source": [
    "fg = fs.get_or_create_feature_group(name=\"eurusd\", \n",
    "                                    version=1, \n",
    "                                    description=\"EUR/USD fx exchange rate\", \n",
    "                                    primary_key=['fx','date'], \n",
    "                                    event_time=\"date\")"
   ]
  },
  {
   "cell_type": "code",
   "execution_count": 5,
   "id": "ef03e536-a466-4e55-9413-e84b5c583feb",
   "metadata": {},
   "outputs": [
    {
     "name": "stderr",
     "output_type": "stream",
     "text": [
      "FeatureGroupWarning: The ingested dataframe contains upper case letters in feature names: `['Date', 'Open', 'High', 'Low', 'Close', 'Volume']`. Feature names are sanitized to lower case in the feature store.\n"
     ]
    },
    {
     "data": {
      "application/vnd.jupyter.widget-view+json": {
       "model_id": "3547aa3474e543dc8e05c3e251e126f8",
       "version_major": 2,
       "version_minor": 0
      },
      "text/plain": [
       "Uploading Dataframe: 0.00% |          | Rows 0/3298 | Elapsed Time: 00:00 | Remaining Time: ?"
      ]
     },
     "metadata": {},
     "output_type": "display_data"
    },
    {
     "name": "stdout",
     "output_type": "stream",
     "text": [
      "Launching job: eurusd_1_offline_fg_backfill\n",
      "Job started successfully, you can follow the progress at \n",
      "https://34.90.74.208/p/119/jobs/named/eurusd_1_offline_fg_backfill/executions\n"
     ]
    },
    {
     "data": {
      "text/plain": [
       "(<hsfs.core.job.Job at 0x7f0718cd6b60>, None)"
      ]
     },
     "execution_count": 5,
     "metadata": {},
     "output_type": "execute_result"
    }
   ],
   "source": [
    "fg.insert(forex_data)"
   ]
  },
  {
   "cell_type": "code",
   "execution_count": null,
   "id": "46731ba0-c5eb-47d7-a5e0-a72fe941ca13",
   "metadata": {},
   "outputs": [],
   "source": [
    "# df = fg.read()"
   ]
  },
  {
   "cell_type": "code",
   "execution_count": null,
   "id": "1e532d12-56a3-44d7-b16c-8ac5418635f4",
   "metadata": {},
   "outputs": [],
   "source": [
    "# df"
   ]
  }
 ],
 "metadata": {
  "kernelspec": {
   "display_name": "Python 3 (ipykernel)",
   "language": "python",
   "name": "python3"
  },
  "language_info": {
   "codemirror_mode": {
    "name": "ipython",
    "version": 3
   },
   "file_extension": ".py",
   "mimetype": "text/x-python",
   "name": "python",
   "nbconvert_exporter": "python",
   "pygments_lexer": "ipython3",
   "version": "3.10.0"
  }
 },
 "nbformat": 4,
 "nbformat_minor": 5
}
