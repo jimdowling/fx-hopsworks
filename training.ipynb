{
 "cells": [
  {
   "cell_type": "code",
   "execution_count": 1,
   "id": "6c175d7d-b94c-445a-8dce-c4cb5028f224",
   "metadata": {},
   "outputs": [
    {
     "name": "stdout",
     "output_type": "stream",
     "text": [
      "Connected. Call `.close()` to terminate connection gracefully.\n",
      "\n",
      "Logged in to project, explore it here https://34.90.74.208:443/p/119\n",
      "Connected. Call `.close()` to terminate connection gracefully.\n"
     ]
    }
   ],
   "source": [
    "import hopsworks\n",
    "\n",
    "proj = hopsworks.login()\n",
    "fs = proj.get_feature_store()"
   ]
  },
  {
   "cell_type": "code",
   "execution_count": 2,
   "id": "eae05817-38b7-48be-8f53-dd5561a025a5",
   "metadata": {},
   "outputs": [],
   "source": [
    "fg = fs.get_feature_group(name = \"eurusd\", version=1)\n"
   ]
  },
  {
   "cell_type": "code",
   "execution_count": 3,
   "id": "889d740a-f3f1-4f18-91cc-fd4c3eefc363",
   "metadata": {},
   "outputs": [],
   "source": [
    "selected_features = fg.select_except(features=[\"Date\",\"fx\"])"
   ]
  },
  {
   "cell_type": "code",
   "execution_count": 4,
   "id": "826b3f8e-62bb-437f-a3c6-28a9dcc40a78",
   "metadata": {},
   "outputs": [
    {
     "name": "stdout",
     "output_type": "stream",
     "text": [
      "Feature view created successfully, explore it at \n",
      "https://34.90.74.208:443/p/119/fs/67/fv/fx/version/1\n"
     ]
    }
   ],
   "source": [
    "fv = fs.create_feature_view(name=\"fx\", version=2, query=selected_features, labels=[\"close\"])"
   ]
  },
  {
   "cell_type": "code",
   "execution_count": 5,
   "id": "2438d15f-2885-46ab-ab50-6f18709164e4",
   "metadata": {},
   "outputs": [
    {
     "name": "stdout",
     "output_type": "stream",
     "text": [
      "Finished: Reading data from Hopsworks, using ArrowFlight (0.47s) \n"
     ]
    },
    {
     "name": "stderr",
     "output_type": "stream",
     "text": [
      "DeprecationWarning: np.find_common_type is deprecated.  Please use `np.result_type` or `np.promote_types`.\n",
      "See https://numpy.org/devdocs/release/1.25.0-notes.html and the docs for more information.  (Deprecated NumPy 1.25)\n",
      "VersionWarning: Incremented version to `1`.\n"
     ]
    }
   ],
   "source": [
    "X_train, X_test, y_train, y_test = fv.train_test_split(test_size=0.2)"
   ]
  },
  {
   "cell_type": "code",
   "execution_count": 6,
   "id": "a0ad7a7b-a390-403b-a2e9-a2c818c3e24e",
   "metadata": {},
   "outputs": [
    {
     "data": {
      "text/html": [
       "<div>\n",
       "<style scoped>\n",
       "    .dataframe tbody tr th:only-of-type {\n",
       "        vertical-align: middle;\n",
       "    }\n",
       "\n",
       "    .dataframe tbody tr th {\n",
       "        vertical-align: top;\n",
       "    }\n",
       "\n",
       "    .dataframe thead th {\n",
       "        text-align: right;\n",
       "    }\n",
       "</style>\n",
       "<table border=\"1\" class=\"dataframe\">\n",
       "  <thead>\n",
       "    <tr style=\"text-align: right;\">\n",
       "      <th></th>\n",
       "      <th>date</th>\n",
       "      <th>open</th>\n",
       "      <th>high</th>\n",
       "      <th>low</th>\n",
       "      <th>adj_close</th>\n",
       "      <th>volume</th>\n",
       "      <th>fx</th>\n",
       "    </tr>\n",
       "  </thead>\n",
       "  <tbody>\n",
       "    <tr>\n",
       "      <th>0</th>\n",
       "      <td>2023-08-28</td>\n",
       "      <td>1.079739</td>\n",
       "      <td>1.082134</td>\n",
       "      <td>1.079937</td>\n",
       "      <td>1.079739</td>\n",
       "      <td>0</td>\n",
       "      <td>EURUSD=X</td>\n",
       "    </tr>\n",
       "    <tr>\n",
       "      <th>1</th>\n",
       "      <td>2020-01-24</td>\n",
       "      <td>1.105534</td>\n",
       "      <td>1.106085</td>\n",
       "      <td>1.102123</td>\n",
       "      <td>1.105522</td>\n",
       "      <td>0</td>\n",
       "      <td>EURUSD=X</td>\n",
       "    </tr>\n",
       "    <tr>\n",
       "      <th>2</th>\n",
       "      <td>2019-10-18</td>\n",
       "      <td>1.112718</td>\n",
       "      <td>1.116196</td>\n",
       "      <td>1.111506</td>\n",
       "      <td>1.112718</td>\n",
       "      <td>0</td>\n",
       "      <td>EURUSD=X</td>\n",
       "    </tr>\n",
       "    <tr>\n",
       "      <th>3</th>\n",
       "      <td>2021-02-01</td>\n",
       "      <td>1.212283</td>\n",
       "      <td>1.213607</td>\n",
       "      <td>1.206913</td>\n",
       "      <td>1.212386</td>\n",
       "      <td>0</td>\n",
       "      <td>EURUSD=X</td>\n",
       "    </tr>\n",
       "    <tr>\n",
       "      <th>4</th>\n",
       "      <td>2023-01-03</td>\n",
       "      <td>1.067771</td>\n",
       "      <td>1.068262</td>\n",
       "      <td>1.052155</td>\n",
       "      <td>1.067771</td>\n",
       "      <td>0</td>\n",
       "      <td>EURUSD=X</td>\n",
       "    </tr>\n",
       "    <tr>\n",
       "      <th>...</th>\n",
       "      <td>...</td>\n",
       "      <td>...</td>\n",
       "      <td>...</td>\n",
       "      <td>...</td>\n",
       "      <td>...</td>\n",
       "      <td>...</td>\n",
       "      <td>...</td>\n",
       "    </tr>\n",
       "    <tr>\n",
       "      <th>12986</th>\n",
       "      <td>2018-11-15</td>\n",
       "      <td>1.131363</td>\n",
       "      <td>1.135112</td>\n",
       "      <td>1.127497</td>\n",
       "      <td>1.131183</td>\n",
       "      <td>0</td>\n",
       "      <td>EURUSD=X</td>\n",
       "    </tr>\n",
       "    <tr>\n",
       "      <th>12987</th>\n",
       "      <td>2016-12-27</td>\n",
       "      <td>1.045577</td>\n",
       "      <td>1.046134</td>\n",
       "      <td>1.043536</td>\n",
       "      <td>1.045697</td>\n",
       "      <td>0</td>\n",
       "      <td>EURUSD=X</td>\n",
       "    </tr>\n",
       "    <tr>\n",
       "      <th>12988</th>\n",
       "      <td>2014-03-03</td>\n",
       "      <td>1.377543</td>\n",
       "      <td>1.379600</td>\n",
       "      <td>1.374986</td>\n",
       "      <td>1.377695</td>\n",
       "      <td>0</td>\n",
       "      <td>EURUSD=X</td>\n",
       "    </tr>\n",
       "    <tr>\n",
       "      <th>12989</th>\n",
       "      <td>2015-10-21</td>\n",
       "      <td>1.135602</td>\n",
       "      <td>1.137800</td>\n",
       "      <td>1.133800</td>\n",
       "      <td>1.135396</td>\n",
       "      <td>0</td>\n",
       "      <td>EURUSD=X</td>\n",
       "    </tr>\n",
       "    <tr>\n",
       "      <th>12990</th>\n",
       "      <td>2014-06-17</td>\n",
       "      <td>1.357700</td>\n",
       "      <td>1.358696</td>\n",
       "      <td>1.353858</td>\n",
       "      <td>1.357718</td>\n",
       "      <td>0</td>\n",
       "      <td>EURUSD=X</td>\n",
       "    </tr>\n",
       "  </tbody>\n",
       "</table>\n",
       "<p>10392 rows × 7 columns</p>\n",
       "</div>"
      ],
      "text/plain": [
       "            date      open      high       low  adj_close  volume        fx\n",
       "0     2023-08-28  1.079739  1.082134  1.079937   1.079739       0  EURUSD=X\n",
       "1     2020-01-24  1.105534  1.106085  1.102123   1.105522       0  EURUSD=X\n",
       "2     2019-10-18  1.112718  1.116196  1.111506   1.112718       0  EURUSD=X\n",
       "3     2021-02-01  1.212283  1.213607  1.206913   1.212386       0  EURUSD=X\n",
       "4     2023-01-03  1.067771  1.068262  1.052155   1.067771       0  EURUSD=X\n",
       "...          ...       ...       ...       ...        ...     ...       ...\n",
       "12986 2018-11-15  1.131363  1.135112  1.127497   1.131183       0  EURUSD=X\n",
       "12987 2016-12-27  1.045577  1.046134  1.043536   1.045697       0  EURUSD=X\n",
       "12988 2014-03-03  1.377543  1.379600  1.374986   1.377695       0  EURUSD=X\n",
       "12989 2015-10-21  1.135602  1.137800  1.133800   1.135396       0  EURUSD=X\n",
       "12990 2014-06-17  1.357700  1.358696  1.353858   1.357718       0  EURUSD=X\n",
       "\n",
       "[10392 rows x 7 columns]"
      ]
     },
     "execution_count": 6,
     "metadata": {},
     "output_type": "execute_result"
    }
   ],
   "source": [
    "X_train"
   ]
  },
  {
   "cell_type": "code",
   "execution_count": 7,
   "id": "5ccb367b-7fba-4aac-acc9-0e21b6659ebe",
   "metadata": {},
   "outputs": [
    {
     "data": {
      "text/html": [
       "<div>\n",
       "<style scoped>\n",
       "    .dataframe tbody tr th:only-of-type {\n",
       "        vertical-align: middle;\n",
       "    }\n",
       "\n",
       "    .dataframe tbody tr th {\n",
       "        vertical-align: top;\n",
       "    }\n",
       "\n",
       "    .dataframe thead th {\n",
       "        text-align: right;\n",
       "    }\n",
       "</style>\n",
       "<table border=\"1\" class=\"dataframe\">\n",
       "  <thead>\n",
       "    <tr style=\"text-align: right;\">\n",
       "      <th></th>\n",
       "      <th>close</th>\n",
       "    </tr>\n",
       "  </thead>\n",
       "  <tbody>\n",
       "    <tr>\n",
       "      <th>0</th>\n",
       "      <td>1.079739</td>\n",
       "    </tr>\n",
       "    <tr>\n",
       "      <th>1</th>\n",
       "      <td>1.105522</td>\n",
       "    </tr>\n",
       "    <tr>\n",
       "      <th>2</th>\n",
       "      <td>1.112718</td>\n",
       "    </tr>\n",
       "    <tr>\n",
       "      <th>3</th>\n",
       "      <td>1.212386</td>\n",
       "    </tr>\n",
       "    <tr>\n",
       "      <th>4</th>\n",
       "      <td>1.067771</td>\n",
       "    </tr>\n",
       "    <tr>\n",
       "      <th>...</th>\n",
       "      <td>...</td>\n",
       "    </tr>\n",
       "    <tr>\n",
       "      <th>12986</th>\n",
       "      <td>1.131183</td>\n",
       "    </tr>\n",
       "    <tr>\n",
       "      <th>12987</th>\n",
       "      <td>1.045697</td>\n",
       "    </tr>\n",
       "    <tr>\n",
       "      <th>12988</th>\n",
       "      <td>1.377695</td>\n",
       "    </tr>\n",
       "    <tr>\n",
       "      <th>12989</th>\n",
       "      <td>1.135396</td>\n",
       "    </tr>\n",
       "    <tr>\n",
       "      <th>12990</th>\n",
       "      <td>1.357718</td>\n",
       "    </tr>\n",
       "  </tbody>\n",
       "</table>\n",
       "<p>10392 rows × 1 columns</p>\n",
       "</div>"
      ],
      "text/plain": [
       "          close\n",
       "0      1.079739\n",
       "1      1.105522\n",
       "2      1.112718\n",
       "3      1.212386\n",
       "4      1.067771\n",
       "...         ...\n",
       "12986  1.131183\n",
       "12987  1.045697\n",
       "12988  1.377695\n",
       "12989  1.135396\n",
       "12990  1.357718\n",
       "\n",
       "[10392 rows x 1 columns]"
      ]
     },
     "execution_count": 7,
     "metadata": {},
     "output_type": "execute_result"
    }
   ],
   "source": [
    "y_train"
   ]
  },
  {
   "cell_type": "code",
   "execution_count": null,
   "id": "71dca5b0-f2d3-4a01-9788-7c037d513319",
   "metadata": {},
   "outputs": [],
   "source": []
  }
 ],
 "metadata": {
  "kernelspec": {
   "display_name": "Python 3 (ipykernel)",
   "language": "python",
   "name": "python3"
  },
  "language_info": {
   "codemirror_mode": {
    "name": "ipython",
    "version": 3
   },
   "file_extension": ".py",
   "mimetype": "text/x-python",
   "name": "python",
   "nbconvert_exporter": "python",
   "pygments_lexer": "ipython3",
   "version": "3.10.0"
  }
 },
 "nbformat": 4,
 "nbformat_minor": 5
}
